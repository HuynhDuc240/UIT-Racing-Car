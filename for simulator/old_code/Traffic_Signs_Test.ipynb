{
 "cells": [
  {
   "cell_type": "code",
   "execution_count": 1,
   "metadata": {
    "colab": {
     "base_uri": "https://localhost:8080/",
     "height": 34
    },
    "colab_type": "code",
    "id": "goqZ_7ZzXbl3",
    "outputId": "d5a2c20c-7a16-489e-f730-6dc941fbee98"
   },
   "outputs": [
    {
     "name": "stdout",
     "output_type": "stream",
     "text": [
      "fatal: destination path 'german-traffic-signs' already exists and is not an empty directory.\n"
     ]
    }
   ],
   "source": [
    "!git clone https://bitbucket.org/jadslim/german-traffic-signs"
   ]
  },
  {
   "cell_type": "code",
   "execution_count": 2,
   "metadata": {
    "colab": {
     "base_uri": "https://localhost:8080/",
     "height": 34
    },
    "colab_type": "code",
    "id": "66AhV1WfcbMh",
    "outputId": "af219e68-9d48-4e69-b484-f3b246570ee2"
   },
   "outputs": [
    {
     "name": "stdout",
     "output_type": "stream",
     "text": [
      "signnames.csv  test.p  train.p\tvalid.p\n"
     ]
    }
   ],
   "source": [
    "!ls german-traffic-signs"
   ]
  },
  {
   "cell_type": "code",
   "execution_count": 3,
   "metadata": {
    "colab": {
     "base_uri": "https://localhost:8080/",
     "height": 34
    },
    "colab_type": "code",
    "id": "IRl15xEbbRF9",
    "outputId": "63f99cf0-3415-4fea-b91e-36d744a5d6df"
   },
   "outputs": [
    {
     "name": "stderr",
     "output_type": "stream",
     "text": [
      "Using TensorFlow backend.\n"
     ]
    }
   ],
   "source": [
    "import numpy as np\n",
    "import matplotlib.pyplot as plt\n",
    "import keras\n",
    "from keras.models import Sequential\n",
    "from keras.layers import Dense\n",
    "from keras.optimizers import Adam\n",
    "from keras.layers import Dropout, Flatten\n",
    "from keras.layers.convolutional import Conv2D, MaxPooling2D\n",
    "from keras.utils.np_utils import to_categorical\n",
    "import pickle \n",
    "  #Mô-đun Pickle thực hiện các giao thức nhị phân để tuần \n",
    "    #tự hóa và khử tuần tự hóa một cấu trúc đối tượng Python\n",
    "    # đuôi .p là đuôi của file pickle\n",
    "import pandas as pd\n",
    "from numpy import random"
   ]
  },
  {
   "cell_type": "code",
   "execution_count": null,
   "metadata": {
    "colab": {},
    "colab_type": "code",
    "id": "Q6Ph021scVUG"
   },
   "outputs": [],
   "source": [
    "np.random.seed(0)"
   ]
  },
  {
   "cell_type": "code",
   "execution_count": null,
   "metadata": {
    "colab": {},
    "colab_type": "code",
    "id": "Q2Nw3DGvhQgf"
   },
   "outputs": [],
   "source": [
    "# rb kí hiệu cho read binary vì file pickle là dữ liệu nhị phân\n",
    "with open('german-traffic-signs/train.p', 'rb') as f:\n",
    "  train_data = pickle.load(f) # dictionary\n",
    "with open('german-traffic-signs/valid.p', 'rb') as f:\n",
    "  val_data = pickle.load(f) # dictionary\n",
    "with open('german-traffic-signs/test.p', 'rb') as f:\n",
    "  test_data = pickle.load(f) # dictionary\n",
    "#print(type(train_data))\n",
    "\n",
    "# dữ liệu có 4 thông tin\n",
    "  ['coords', 'labels', 'features', 'sizes']\n",
    "X_train, y_train = train_data['features'], train_data['labels']\n",
    "X_val, y_val = val_data['features'], val_data['labels']\n",
    "X_test, y_test = test_data['features'], test_data['labels']\n",
    "\n",
    "# nhãn y của bộ dữ liệu được gán bằng các con số chứ không phải là tên của\n",
    "  # biển báo, các số từ 0->42"
   ]
  },
  {
   "cell_type": "code",
   "execution_count": null,
   "metadata": {
    "colab": {},
    "colab_type": "code",
    "id": "zljeghNERC-H"
   },
   "outputs": [],
   "source": [
    "X_train = X_train[np.logical_or(y_train == 33, y_train == 34)]\n",
    "y_train = y_train[np.logical_or(y_train == 33, y_train == 34)]\n",
    "X_test = X_test[np.logical_or(y_test == 33, y_test == 34)]\n",
    "y_test = y_test[np.logical_or(y_test == 33, y_test == 34)]\n",
    "X_val = X_val[np.logical_or(y_val == 33, y_val == 34)]\n",
    "y_val = y_val[np.logical_or(y_val == 33, y_val == 34)]"
   ]
  },
  {
   "cell_type": "code",
   "execution_count": null,
   "metadata": {
    "colab": {},
    "colab_type": "code",
    "id": "xlQ9sWZKfef1"
   },
   "outputs": [],
   "source": [
    "y_train = np.array(list(map(lambda x : x%33, y_train)))\n",
    "y_test = np.array(list(map(lambda x : x%33, y_test)))\n",
    "y_val = np.array(list(map(lambda x : x%33, y_val)))\n",
    "# 0: right; 1: left"
   ]
  },
  {
   "cell_type": "code",
   "execution_count": 8,
   "metadata": {
    "colab": {
     "base_uri": "https://localhost:8080/",
     "height": 68
    },
    "colab_type": "code",
    "id": "0YetVBKujEeT",
    "outputId": "f4334ff9-627c-4c86-f5c5-8973e3502723"
   },
   "outputs": [
    {
     "name": "stdout",
     "output_type": "stream",
     "text": [
      "(959, 32, 32, 3)\n",
      "(150, 32, 32, 3)\n",
      "(330, 32, 32, 3)\n"
     ]
    }
   ],
   "source": [
    "print(X_train.shape)\n",
    "print(X_val.shape)\n",
    "print(X_test.shape)"
   ]
  },
  {
   "cell_type": "code",
   "execution_count": null,
   "metadata": {
    "colab": {},
    "colab_type": "code",
    "id": "ms6j3Paf30_b"
   },
   "outputs": [],
   "source": [
    "assert(X_train.shape[0] == y_train.shape[0]), 'number of images is not equal number of images labels'\n",
    "assert(X_val.shape[0] == y_val.shape[0]), 'number of images is not equal number of images labels'\n",
    "assert(X_test.shape[0] == y_test.shape[0]), 'number of images is not equal number of images labels'\n",
    "assert(X_train.shape[1:] == X_val.shape[1:] == X_test.shape[1:] == (32,32,3)), 'number of dimensions is not eaual (32,32,3)'"
   ]
  },
  {
   "cell_type": "code",
   "execution_count": 10,
   "metadata": {
    "colab": {
     "base_uri": "https://localhost:8080/",
     "height": 160
    },
    "colab_type": "code",
    "id": "1tgKu37b3Llw",
    "outputId": "a6329392-436e-4989-8613-1108dbf9386c"
   },
   "outputs": [
    {
     "data": {
      "image/png": "[encoded data removed]",
      "text/plain": [
       "<Figure size 360x144 with 10 Axes>"
      ]
     },
     "metadata": {
      "tags": []
     },
     "output_type": "display_data"
    }
   ],
   "source": [
    "#data = pd.read_csv('german-traffic-signs/signnames.csv')\n",
    "data = [[0, 'turn right'],[1, 'turn left']]\n",
    "\n",
    "num_of_samples = []\n",
    "cols = 5\n",
    "num_classes = 2\n",
    "\n",
    "fig, axs = plt.subplots(nrows = num_classes, ncols = cols, figsize = (5,2))\n",
    "    # figsize là độ dài (inchs) hoành và tung của khung ảnh chứa các subplot\n",
    "fig.tight_layout()    \n",
    "    # tự động điều chỉnh các tham số subplot sao cho (các) subplot phù hợp với khu vực hình. \n",
    "    # Đây là một tính năng thử nghiệm và có thể không hoạt động trong một số trường hợp\n",
    "for col in range(cols):\n",
    "    for row, sign_name in data:\n",
    "        x_selected = X_train[y_train == row]\n",
    "        axs[row][col].imshow(x_selected[random.randint(0, len(x_selected-1)), :, :], cmap = plt.get_cmap('gray'))\n",
    "            # cmap ~ color map\n",
    "            # chọn ngẫu nhiên mỗi tấm ảnh tương ứng với phân lớp\n",
    "            # chạy khá lâu vì phải duyệt liên tục, bị lặp lại\n",
    "        axs[row][col].axis('off')\n",
    "        if col == 0:\n",
    "            axs[row][col].set_title(str(row) + '-' + sign_name)\n",
    "                # tạo nhãn cho ảnh ở giữa, cột thứ 2\n",
    "                # signame là có type là Series, một Series ngang ko phải dọc !\n",
    "            num_of_samples.append(len(x_selected))"
   ]
  },
  {
   "cell_type": "code",
   "execution_count": 11,
   "metadata": {
    "colab": {
     "base_uri": "https://localhost:8080/",
     "height": 34
    },
    "colab_type": "code",
    "id": "v8XeMrKg_9te",
    "outputId": "4fb5ecee-2380-410f-d405-01c76123dfd5"
   },
   "outputs": [
    {
     "name": "stdout",
     "output_type": "stream",
     "text": [
      "[[0, 'turn right'], [1, 'turn left']]\n"
     ]
    }
   ],
   "source": [
    "print(data)"
   ]
  },
  {
   "cell_type": "code",
   "execution_count": 12,
   "metadata": {
    "colab": {
     "base_uri": "https://localhost:8080/",
     "height": 314
    },
    "colab_type": "code",
    "id": "x7zMimYfFeh1",
    "outputId": "68e8e7df-0f33-4c41-f3d8-bbe4ac264f0b"
   },
   "outputs": [
    {
     "name": "stdout",
     "output_type": "stream",
     "text": [
      "[599, 360]\n"
     ]
    },
    {
     "data": {
      "text/plain": [
       "Text(0, 0.5, 'Number of images')"
      ]
     },
     "execution_count": 12,
     "metadata": {
      "tags": []
     },
     "output_type": "execute_result"
    },
    {
     "data": {
      "image/png": "[encoded data removed]",
      "text/plain": [
       "<Figure size 864x288 with 1 Axes>"
      ]
     },
     "metadata": {
      "tags": []
     },
     "output_type": "display_data"
    }
   ],
   "source": [
    "print(num_of_samples)\n",
    "plt.figure(figsize = (12,4))\n",
    "    # figsize tạo độ dài inches cho trục hoành và tung\n",
    "plt.bar(range(0,num_classes), num_of_samples)\n",
    "    # khác histogram sẽ lấy số điểm trong một bin để tạo giá trị cho trục y\n",
    "    # bin là số khoảng đều nhau của trục hoành\n",
    "plt.title('Distribution of the training dataset')\n",
    "plt.ylabel('Number of images')"
   ]
  },
  {
   "cell_type": "code",
   "execution_count": null,
   "metadata": {
    "cellView": "code",
    "colab": {},
    "colab_type": "code",
    "id": "YL_7BkueIN3d"
   },
   "outputs": [],
   "source": [
    "#@title Default title text\n",
    "# PREPROCESSING IMAGE - TIỀN XỬ LÝ ẢNH \n",
    "\n",
    "# Chuyển sang gray đưa về 1 channel, vì màu sắc không phải là đặc trưng\n",
    "  # phân biệt với các các biển báo khác\n",
    "# Vấn đề đặc trưng của biển báo là cạnh, độ cong của khối hình\n",
    "\n",
    "# Dùng histogram để rải đều độ sáng của ảnh, vì có nhiều ảnh quá sáng hoặc\n",
    "  # quá tối, những tấm ảnh sau khi qua bộ lọc histogram sẽ cho ra độ sáng giống\n",
    "  # giống nhau, cho ra ảnh có contrast (độ tương phản) cao hơn giúp trích xuất\n",
    "  # tính năng tốt hơn\n",
    "\n",
    "import cv2\n",
    "def gray_scale(image):\n",
    "  return cv2.cvtColor(image, cv2.COLOR_BGR2GRAY)"
   ]
  },
  {
   "cell_type": "code",
   "execution_count": 14,
   "metadata": {
    "colab": {
     "base_uri": "https://localhost:8080/",
     "height": 364
    },
    "colab_type": "code",
    "id": "tIegKUrZjo1X",
    "outputId": "f327c42c-29b1-4d8d-d4ea-81661d08ae89"
   },
   "outputs": [
    {
     "data": {
      "text/plain": [
       "(-0.5, 31.5, 31.5, -0.5)"
      ]
     },
     "execution_count": 14,
     "metadata": {
      "tags": []
     },
     "output_type": "execute_result"
    },
    {
     "data": {
      "image/png": "[encoded data removed]",
      "text/plain": [
       "<Figure size 576x396 with 1 Axes>"
      ]
     },
     "metadata": {
      "tags": []
     },
     "output_type": "display_data"
    }
   ],
   "source": [
    "sign = X_train[500]\n",
    "plt.imshow(sign)\n",
    "plt.axis('off')\n"
   ]
  },
  {
   "cell_type": "code",
   "execution_count": 15,
   "metadata": {
    "colab": {
     "base_uri": "https://localhost:8080/",
     "height": 698
    },
    "colab_type": "code",
    "id": "urbYgAFuI9lA",
    "outputId": "582e3797-fb8a-4799-81ef-ff266d50485b"
   },
   "outputs": [
    {
     "data": {
      "image/png": "[encoded data removed]",
      "text/plain": [
       "<Figure size 576x396 with 1 Axes>"
      ]
     },
     "metadata": {
      "tags": []
     },
     "output_type": "display_data"
    },
    {
     "data": {
      "text/plain": [
       "(0.0, 1.0, 0.0, 1.0)"
      ]
     },
     "execution_count": 15,
     "metadata": {
      "tags": []
     },
     "output_type": "execute_result"
    },
    {
     "data": {
      "image/png": "[encoded data removed]",
      "text/plain": [
       "<Figure size 576x396 with 1 Axes>"
      ]
     },
     "metadata": {
      "tags": []
     },
     "output_type": "display_data"
    }
   ],
   "source": [
    "gray_sign = gray_scale(sign)\n",
    "plt.imshow(gray_sign)\n",
    "plt.show()\n",
    "plt.axis('off')"
   ]
  },
  {
   "cell_type": "code",
   "execution_count": 16,
   "metadata": {
    "colab": {
     "base_uri": "https://localhost:8080/",
     "height": 347
    },
    "colab_type": "code",
    "id": "2EZ717NykSxm",
    "outputId": "1bb984c1-5717-452f-a412-af2ef1ee4b26"
   },
   "outputs": [
    {
     "data": {
      "image/png": "[encoded data removed]",
      "text/plain": [
       "<Figure size 576x396 with 1 Axes>"
      ]
     },
     "metadata": {
      "tags": []
     },
     "output_type": "display_data"
    }
   ],
   "source": [
    "# Hàm cân bằng (equalizer function) histogram chỉ chấp nhận ảnh grayscale !!!\n",
    "  # ảnh 1 kênh\n",
    "def equalize(img):\n",
    "  return cv2.equalizeHist(img)\n",
    "\n",
    "hist_sign = equalize(gray_sign)\n",
    "plt.imshow(hist_sign)\n",
    "plt.axis('off')\n",
    "plt.show()\n"
   ]
  },
  {
   "cell_type": "code",
   "execution_count": 17,
   "metadata": {
    "colab": {
     "base_uri": "https://localhost:8080/",
     "height": 266
    },
    "colab_type": "code",
    "id": "PhOPm8zWn5k7",
    "outputId": "0f64994e-9c97-4f91-91b6-a4b8c3b0c9ae"
   },
   "outputs": [
    {
     "data": {
      "image/png": "[encoded data removed]",
      "text/plain": [
       "<Figure size 576x396 with 2 Axes>"
      ]
     },
     "metadata": {
      "tags": []
     },
     "output_type": "display_data"
    }
   ],
   "source": [
    "fig, axes = plt.subplots(1,2)\n",
    "axes[0].set_title('gray sign')\n",
    "axes[0].imshow(gray_sign)\n",
    "axes[1].set_title('hist sign')\n",
    "axes[1].imshow(hist_sign)\n",
    "\n",
    "plt.axis('off')\n",
    "plt.show()"
   ]
  },
  {
   "cell_type": "code",
   "execution_count": null,
   "metadata": {
    "colab": {},
    "colab_type": "code",
    "id": "iLn55E-1odNG"
   },
   "outputs": [],
   "source": [
    "# Có 3 công nghệ trong tiền xử lý ảnh cho bài ví dụ này:\n",
    "  # 1 grayscale\n",
    "  # 2 histogram equalization\n",
    "  # 3 normalization chuẩn hóa về 0 -> 1\n",
    "    # vì mỗi neural sẽ nhân với trọng số và tạo ra các số rất lớn, ngốn thêm sức mạnh xử lý của cpu\n",
    "def preprocessingimage(img):\n",
    "  img = gray_scale(img)\n",
    "  img = equalize(img)\n",
    "  img = img/225\n",
    "  return img"
   ]
  },
  {
   "cell_type": "code",
   "execution_count": null,
   "metadata": {
    "colab": {},
    "colab_type": "code",
    "id": "8t6PUKZvpdpd"
   },
   "outputs": [],
   "source": [
    "# map có hai đối số\n",
    "  # đầu tiên là hàm, thứ hai là một iterrowable\n",
    "\n",
    "# Xử lý toàn bộ dữ liệu ảnh\n",
    "X_train = np.array(list(map(preprocessingimage, X_train)))\n",
    "  # toàn bộ ảnh sẽ đưa vào thư viện xử lý số numpy\n",
    "X_val = np.array(list(map(preprocessingimage, X_val)))\n",
    "X_test = np.array(list(map(preprocessingimage, X_test)))"
   ]
  },
  {
   "cell_type": "code",
   "execution_count": 20,
   "metadata": {
    "colab": {
     "base_uri": "https://localhost:8080/",
     "height": 698
    },
    "colab_type": "code",
    "id": "rCpdIVE6qwPS",
    "outputId": "854ee17e-3a88-41f8-b27e-befdb037a50a"
   },
   "outputs": [
    {
     "data": {
      "image/png": "[encoded data removed]",
      "text/plain": [
       "<Figure size 576x396 with 1 Axes>"
      ]
     },
     "metadata": {
      "tags": []
     },
     "output_type": "display_data"
    },
    {
     "data": {
      "text/plain": [
       "(0.0, 1.0, 0.0, 1.0)"
      ]
     },
     "execution_count": 20,
     "metadata": {
      "tags": []
     },
     "output_type": "execute_result"
    },
    {
     "data": {
      "image/png": "[encoded data removed]",
      "text/plain": [
       "<Figure size 576x396 with 1 Axes>"
      ]
     },
     "metadata": {
      "tags": []
     },
     "output_type": "display_data"
    }
   ],
   "source": [
    "plt.imshow(X_train[random.randint(0, len(X_train)-1)])\n",
    "plt.show()\n",
    "plt.axis('off')"
   ]
  },
  {
   "cell_type": "code",
   "execution_count": null,
   "metadata": {
    "colab": {},
    "colab_type": "code",
    "id": "dKkb1V7SvxOm"
   },
   "outputs": [],
   "source": [
    "X_train = X_train.reshape(len(X_train), 32, 32, 1)\n",
    "X_val = X_val.reshape(len(X_val), 32, 32, 1)\n",
    "X_test = X_test.reshape(len(X_test), 32, 32, 1)\n",
    "  # Mục đích của việc reshape thêm 1 ở đối số cuối\n",
    "    # để đưa các giá trị trong mặt phẳng 2 chiều về 1 giá trị đơn lẻ\n",
    "    # mỗi giá trị sẽ nằm trong một ngoặc []\n",
    "    # vì đây là định dạng đầu vào của neural network trong keras\n",
    "    \n",
    "    # VD: [[[12  2]\n",
    "    #       [ 1  4]\n",
    "    #       [23  5]]\n",
    "\n",
    "    #      [[ 2  3]\n",
    "    #       [ 6  3]\n",
    "    #       [ 2  3]]]\n",
    "    \n",
    "    # (2,3,2) -> (2,3,2,1)\n",
    "    # [[[[12]\n",
    "    #   [ 2]]\n",
    "\n",
    "    #   [[ 1]\n",
    "    #   [ 4]]\n",
    "\n",
    "    #   [[23]\n",
    "    #   [ 5]]]\n",
    "\n",
    "\n",
    "    #   [[[ 2]\n",
    "    #   [ 3]]\n",
    "\n",
    "    #   [[ 6]\n",
    "    #   [ 3]]\n",
    "\n",
    "    #   [[ 2]\n",
    "    #  [ 3]]]]\n",
    "    "
   ]
  },
  {
   "cell_type": "code",
   "execution_count": null,
   "metadata": {
    "colab": {},
    "colab_type": "code",
    "id": "rIbeWLWP3_LV"
   },
   "outputs": [],
   "source": [
    "from keras.preprocessing.image import ImageDataGenerator\n",
    "\n",
    "# Tạo 5 bộ chuyển đổi để bổ sung đầy đủ đa dạng dữ liệu sẽ cho phép\n",
    "# quá trình training hiệu quả hơn\n",
    "datagen = ImageDataGenerator(width_shift_range = 0.1, # dịch sang phải 10 %, dịch trái 10% là -0.1\n",
    "                  height_shift_range = 0.1, # dịch lên 10% \n",
    "                  zoom_range = 0.2, # phóng to ảnh lên 1.2, min = 1-, max = 1+\n",
    "                  shear_range = 0.1, # làm nghiêng ảnh\n",
    "                  rotation_range = 10) # xoay ảnh 10 độ\n",
    "datagen.fit(X_train)\n",
    " "
   ]
  },
  {
   "cell_type": "code",
   "execution_count": 23,
   "metadata": {
    "colab": {
     "base_uri": "https://localhost:8080/",
     "height": 142
    },
    "colab_type": "code",
    "id": "kss1stmUGn-t",
    "outputId": "1f4f4a96-897e-49bb-95e0-f0cfd0feda80"
   },
   "outputs": [
    {
     "name": "stdout",
     "output_type": "stream",
     "text": [
      "(32, 32, 1)\n"
     ]
    },
    {
     "data": {
      "image/png": "[encoded data removed]",
      "text/plain": [
       "<Figure size 1440x360 with 15 Axes>"
      ]
     },
     "metadata": {
      "tags": []
     },
     "output_type": "display_data"
    }
   ],
   "source": [
    "batches = datagen.flow(X_train, y_train, batch_size = 20)\n",
    " # batchsize = 20 tức nó sẽ lấy lần lượt 20 mẫu trong tổng số mẫu cần train để generator, mục đích giúp tiết kiệm bộ nhớ hiệu quả\n",
    "X_batch, y_batch = next(batches)\n",
    "  # X_batch thứ i có shape giống với mẫu đầu vào là 32,32,1 nên cần reshape lại để imshow\n",
    "  # next sẽ lặp qua lần lượt 20 mẫu \n",
    "fig, axs = plt.subplots(1, 15, figsize = (20,5))\n",
    "fig.tight_layout()\n",
    "for i in range(15):\n",
    "  axs[i].imshow(X_batch[i].reshape(32,32))\n",
    "  axs[i].axis('off')\n",
    "print(X_batch[0].shape)"
   ]
  },
  {
   "cell_type": "code",
   "execution_count": 24,
   "metadata": {
    "colab": {
     "base_uri": "https://localhost:8080/",
     "height": 102
    },
    "colab_type": "code",
    "id": "5QOdKc1GwVuU",
    "outputId": "4a9c9510-3e01-41ae-b97a-a9c16f1bf63c"
   },
   "outputs": [
    {
     "name": "stdout",
     "output_type": "stream",
     "text": [
      "(959, 32, 32, 1)\n",
      "(150, 32, 32, 1)\n",
      "(330, 32, 32, 1)\n",
      "(150,)\n",
      "1\n"
     ]
    }
   ],
   "source": [
    "print(X_train.shape)\n",
    "print(X_val.shape)\n",
    "print(X_test.shape)\n",
    "print(y_val.shape)\n",
    "print(y_train[0])"
   ]
  },
  {
   "cell_type": "code",
   "execution_count": null,
   "metadata": {
    "colab": {},
    "colab_type": "code",
    "id": "K_XzTCOuwDQk"
   },
   "outputs": [],
   "source": [
    "# one hot coding\n",
    "y_train = to_categorical(y_train, 2)\n",
    "y_val = to_categorical(y_val, 2)\n",
    "y_test = to_categorical(y_test, 2)"
   ]
  },
  {
   "cell_type": "code",
   "execution_count": null,
   "metadata": {
    "colab": {},
    "colab_type": "code",
    "id": "YoJppV3bw5wn"
   },
   "outputs": [],
   "source": [
    "def LeNetModel():\n",
    "  model = Sequential()\n",
    "  model.add(Conv2D(30, (5,5), input_shape = (32, 32, 1), activation = 'relu', strides = 1, padding = 'valid'))\n",
    "  #model.add(Conv2D(40, (5,5), activation = 'relu'))\n",
    "    # thêm layer Conv2D để lấy được nhiều góc cạnh \n",
    "    # tăng số feature để tăng độ chính xác\n",
    "  model.add(MaxPooling2D(pool_size = (2,2)))\n",
    "  #model.add(Dropout(0.5))\n",
    "    # dùng Drop out ở giữa 2 layer có nhiều trọng số\n",
    "      # drop out nên để sau maxpooling và dense\n",
    "    # THÊM DROPOUT Ở ĐÂY HIỆU SUẤT KÉM HƠN 1 CHÚT\n",
    "  #model.add(Conv2D(30, (3,3), activation = 'relu'))\n",
    "  model.add(Conv2D(15, (3,3), activation = 'relu'))\n",
    "    # thêm layer Conv2D để lấy được nhiều góc cạnh \n",
    "    # tăng số feature để tăng độ chính xác\n",
    "  model.add(MaxPooling2D(pool_size = (2,2)))\n",
    "  #model.add(Dropout(0.5))\n",
    "    # dùng Drop out ở giữa 2 layer có nhiều trọng số\n",
    "      # drop out nên để sau maxpooling và dense\n",
    "    # DROP OUT THƯỜNG CHẶN 2 ĐẦU LAYER CÓ NHIỀU TRỌNG SỐ NHẤT\n",
    "  model.add(Flatten())\n",
    "  model.add(Dense(500, activation = 'relu'))\n",
    "  model.add(Dropout(0.5))\n",
    "    # dùng Drop out ở giữa 2 layer có nhiều trọng số\n",
    "      # drop out nên để sau maxpooling và dense\n",
    "    # DROP OUT THƯỜNG CHẶN 2 ĐẦU LAYER CÓ NHIỀU TRỌNG SỐ NHẤT\n",
    "  model.add(Dense(num_classes, activation = 'softmax'))\n",
    "  model.compile(Adam(lr = 0.001), loss = 'categorical_crossentropy', metrics = ['accuracy'])\n",
    "    # learning rate = 0.01 là quá cao, vì khi trọng số trừ đi một lượng delta để cải thiện hiệu suất mà trừ quá đà thì độ chính xác sẽ ko cao\n",
    "    # nếu để lr nhỏ hơn nữa, độ lệch cho trọng số giảm nhẹ hơn, kiểm soát tốt hơn\n",
    "  return model"
   ]
  },
  {
   "cell_type": "code",
   "execution_count": 27,
   "metadata": {
    "colab": {
     "base_uri": "https://localhost:8080/",
     "height": 530
    },
    "colab_type": "code",
    "id": "0Qm7Ib1FsBu1",
    "outputId": "a645e8c1-2fee-4244-f033-c7b106baadf0"
   },
   "outputs": [
    {
     "name": "stdout",
     "output_type": "stream",
     "text": [
      "WARNING:tensorflow:From /usr/local/lib/python3.6/dist-packages/tensorflow/python/framework/op_def_library.py:263: colocate_with (from tensorflow.python.framework.ops) is deprecated and will be removed in a future version.\n",
      "Instructions for updating:\n",
      "Colocations handled automatically by placer.\n",
      "WARNING:tensorflow:From /usr/local/lib/python3.6/dist-packages/keras/backend/tensorflow_backend.py:3445: calling dropout (from tensorflow.python.ops.nn_ops) with keep_prob is deprecated and will be removed in a future version.\n",
      "Instructions for updating:\n",
      "Please use `rate` instead of `keep_prob`. Rate should be set to `rate = 1 - keep_prob`.\n",
      "_________________________________________________________________\n",
      "Layer (type)                 Output Shape              Param #   \n",
      "=================================================================\n",
      "conv2d_1 (Conv2D)            (None, 28, 28, 30)        780       \n",
      "_________________________________________________________________\n",
      "max_pooling2d_1 (MaxPooling2 (None, 14, 14, 30)        0         \n",
      "_________________________________________________________________\n",
      "conv2d_2 (Conv2D)            (None, 12, 12, 15)        4065      \n",
      "_________________________________________________________________\n",
      "max_pooling2d_2 (MaxPooling2 (None, 6, 6, 15)          0         \n",
      "_________________________________________________________________\n",
      "flatten_1 (Flatten)          (None, 540)               0         \n",
      "_________________________________________________________________\n",
      "dense_1 (Dense)              (None, 500)               270500    \n",
      "_________________________________________________________________\n",
      "dropout_1 (Dropout)          (None, 500)               0         \n",
      "_________________________________________________________________\n",
      "dense_2 (Dense)              (None, 2)                 1002      \n",
      "=================================================================\n",
      "Total params: 276,347\n",
      "Trainable params: 276,347\n",
      "Non-trainable params: 0\n",
      "_________________________________________________________________\n"
     ]
    }
   ],
   "source": [
    "model = LeNetModel()\n",
    "model.summary()"
   ]
  },
  {
   "cell_type": "code",
   "execution_count": 28,
   "metadata": {
    "colab": {
     "base_uri": "https://localhost:8080/",
     "height": 1805
    },
    "colab_type": "code",
    "id": "tbLrffjurRl8",
    "outputId": "de895564-e064-45ad-fe47-766b4de3d572"
   },
   "outputs": [
    {
     "name": "stdout",
     "output_type": "stream",
     "text": [
      "WARNING:tensorflow:From /usr/local/lib/python3.6/dist-packages/tensorflow/python/ops/math_ops.py:3066: to_int32 (from tensorflow.python.ops.math_ops) is deprecated and will be removed in a future version.\n",
      "Instructions for updating:\n",
      "Use tf.cast instead.\n",
      "Train on 959 samples, validate on 150 samples\n",
      "Epoch 1/50\n",
      "959/959 [==============================] - 2s 2ms/step - loss: 0.2450 - acc: 0.8874 - val_loss: 0.3012 - val_acc: 0.8667\n",
      "Epoch 2/50\n",
      "959/959 [==============================] - 0s 440us/step - loss: 0.0175 - acc: 0.9969 - val_loss: 0.0038 - val_acc: 1.0000\n",
      "Epoch 3/50\n",
      "959/959 [==============================] - 0s 446us/step - loss: 0.0048 - acc: 0.9990 - val_loss: 0.0029 - val_acc: 1.0000\n",
      "Epoch 4/50\n",
      "959/959 [==============================] - 0s 457us/step - loss: 0.0016 - acc: 1.0000 - val_loss: 0.0033 - val_acc: 1.0000\n",
      "Epoch 5/50\n",
      "959/959 [==============================] - 0s 433us/step - loss: 0.0025 - acc: 1.0000 - val_loss: 0.0098 - val_acc: 1.0000\n",
      "Epoch 6/50\n",
      "959/959 [==============================] - 0s 444us/step - loss: 0.0014 - acc: 1.0000 - val_loss: 7.4001e-04 - val_acc: 1.0000\n",
      "Epoch 7/50\n",
      "959/959 [==============================] - 0s 430us/step - loss: 4.3108e-04 - acc: 1.0000 - val_loss: 0.0023 - val_acc: 1.0000\n",
      "Epoch 8/50\n",
      "959/959 [==============================] - 0s 439us/step - loss: 3.1984e-04 - acc: 1.0000 - val_loss: 2.4256e-04 - val_acc: 1.0000\n",
      "Epoch 9/50\n",
      "959/959 [==============================] - 0s 461us/step - loss: 1.0226e-04 - acc: 1.0000 - val_loss: 2.8311e-04 - val_acc: 1.0000\n",
      "Epoch 10/50\n",
      "959/959 [==============================] - 0s 437us/step - loss: 1.1342e-04 - acc: 1.0000 - val_loss: 2.2308e-04 - val_acc: 1.0000\n",
      "Epoch 11/50\n",
      "959/959 [==============================] - 0s 462us/step - loss: 1.4614e-04 - acc: 1.0000 - val_loss: 9.8700e-05 - val_acc: 1.0000\n",
      "Epoch 12/50\n",
      "959/959 [==============================] - 0s 439us/step - loss: 1.1593e-04 - acc: 1.0000 - val_loss: 1.5346e-04 - val_acc: 1.0000\n",
      "Epoch 13/50\n",
      "959/959 [==============================] - 0s 454us/step - loss: 4.3825e-05 - acc: 1.0000 - val_loss: 2.0928e-04 - val_acc: 1.0000\n",
      "Epoch 14/50\n",
      "959/959 [==============================] - 0s 435us/step - loss: 4.6198e-05 - acc: 1.0000 - val_loss: 1.1429e-04 - val_acc: 1.0000\n",
      "Epoch 15/50\n",
      "959/959 [==============================] - 0s 440us/step - loss: 3.7954e-05 - acc: 1.0000 - val_loss: 1.7722e-04 - val_acc: 1.0000\n",
      "Epoch 16/50\n",
      "959/959 [==============================] - 0s 449us/step - loss: 4.8699e-05 - acc: 1.0000 - val_loss: 2.1823e-04 - val_acc: 1.0000\n",
      "Epoch 17/50\n",
      "959/959 [==============================] - 0s 435us/step - loss: 4.9446e-05 - acc: 1.0000 - val_loss: 7.2339e-05 - val_acc: 1.0000\n",
      "Epoch 18/50\n",
      "959/959 [==============================] - 0s 449us/step - loss: 2.5744e-05 - acc: 1.0000 - val_loss: 9.7524e-05 - val_acc: 1.0000\n",
      "Epoch 19/50\n",
      "959/959 [==============================] - 0s 436us/step - loss: 3.2778e-05 - acc: 1.0000 - val_loss: 1.9322e-04 - val_acc: 1.0000\n",
      "Epoch 20/50\n",
      "959/959 [==============================] - 0s 449us/step - loss: 3.4198e-05 - acc: 1.0000 - val_loss: 1.0645e-04 - val_acc: 1.0000\n",
      "Epoch 21/50\n",
      "959/959 [==============================] - 0s 450us/step - loss: 4.7118e-05 - acc: 1.0000 - val_loss: 9.5749e-05 - val_acc: 1.0000\n",
      "Epoch 22/50\n",
      "959/959 [==============================] - 0s 445us/step - loss: 2.2258e-05 - acc: 1.0000 - val_loss: 1.3268e-04 - val_acc: 1.0000\n",
      "Epoch 23/50\n",
      "959/959 [==============================] - 0s 452us/step - loss: 5.3374e-05 - acc: 1.0000 - val_loss: 5.9459e-05 - val_acc: 1.0000\n",
      "Epoch 24/50\n",
      "959/959 [==============================] - 0s 441us/step - loss: 9.9753e-05 - acc: 1.0000 - val_loss: 8.1837e-05 - val_acc: 1.0000\n",
      "Epoch 25/50\n",
      "959/959 [==============================] - 0s 453us/step - loss: 6.9678e-05 - acc: 1.0000 - val_loss: 4.7377e-05 - val_acc: 1.0000\n",
      "Epoch 26/50\n",
      "959/959 [==============================] - 0s 436us/step - loss: 1.1468e-05 - acc: 1.0000 - val_loss: 5.4221e-05 - val_acc: 1.0000\n",
      "Epoch 27/50\n",
      "959/959 [==============================] - 0s 439us/step - loss: 1.4236e-05 - acc: 1.0000 - val_loss: 6.1457e-05 - val_acc: 1.0000\n",
      "Epoch 28/50\n",
      "959/959 [==============================] - 0s 452us/step - loss: 9.7810e-06 - acc: 1.0000 - val_loss: 7.1017e-05 - val_acc: 1.0000\n",
      "Epoch 29/50\n",
      "959/959 [==============================] - 0s 438us/step - loss: 1.9010e-05 - acc: 1.0000 - val_loss: 1.1046e-04 - val_acc: 1.0000\n",
      "Epoch 30/50\n",
      "959/959 [==============================] - 0s 449us/step - loss: 1.6386e-05 - acc: 1.0000 - val_loss: 3.4630e-05 - val_acc: 1.0000\n",
      "Epoch 31/50\n",
      "959/959 [==============================] - 0s 441us/step - loss: 1.4815e-05 - acc: 1.0000 - val_loss: 5.8933e-05 - val_acc: 1.0000\n",
      "Epoch 32/50\n",
      "959/959 [==============================] - 0s 438us/step - loss: 4.2105e-06 - acc: 1.0000 - val_loss: 6.3493e-05 - val_acc: 1.0000\n",
      "Epoch 33/50\n",
      "959/959 [==============================] - 0s 449us/step - loss: 1.2860e-05 - acc: 1.0000 - val_loss: 4.9502e-05 - val_acc: 1.0000\n",
      "Epoch 34/50\n",
      "959/959 [==============================] - 0s 437us/step - loss: 6.6547e-06 - acc: 1.0000 - val_loss: 5.4456e-05 - val_acc: 1.0000\n",
      "Epoch 35/50\n",
      "959/959 [==============================] - 0s 449us/step - loss: 7.9062e-06 - acc: 1.0000 - val_loss: 3.5353e-05 - val_acc: 1.0000\n",
      "Epoch 36/50\n",
      "959/959 [==============================] - 0s 434us/step - loss: 1.6438e-05 - acc: 1.0000 - val_loss: 4.9043e-05 - val_acc: 1.0000\n",
      "Epoch 37/50\n",
      "959/959 [==============================] - 0s 434us/step - loss: 4.3944e-06 - acc: 1.0000 - val_loss: 2.4133e-05 - val_acc: 1.0000\n",
      "Epoch 38/50\n",
      "959/959 [==============================] - 0s 450us/step - loss: 5.1374e-06 - acc: 1.0000 - val_loss: 3.0923e-05 - val_acc: 1.0000\n",
      "Epoch 39/50\n",
      "959/959 [==============================] - 0s 440us/step - loss: 2.4982e-06 - acc: 1.0000 - val_loss: 3.0269e-05 - val_acc: 1.0000\n",
      "Epoch 40/50\n",
      "959/959 [==============================] - 0s 447us/step - loss: 3.4961e-06 - acc: 1.0000 - val_loss: 3.9963e-05 - val_acc: 1.0000\n",
      "Epoch 41/50\n",
      "959/959 [==============================] - 0s 438us/step - loss: 3.9731e-06 - acc: 1.0000 - val_loss: 3.8535e-05 - val_acc: 1.0000\n",
      "Epoch 42/50\n",
      "959/959 [==============================] - 0s 452us/step - loss: 2.8282e-06 - acc: 1.0000 - val_loss: 4.4529e-05 - val_acc: 1.0000\n",
      "Epoch 43/50\n",
      "959/959 [==============================] - 0s 440us/step - loss: 7.5676e-06 - acc: 1.0000 - val_loss: 4.3132e-05 - val_acc: 1.0000\n",
      "Epoch 44/50\n",
      "959/959 [==============================] - 0s 444us/step - loss: 4.6935e-06 - acc: 1.0000 - val_loss: 3.1603e-05 - val_acc: 1.0000\n",
      "Epoch 45/50\n",
      "959/959 [==============================] - 0s 458us/step - loss: 3.1113e-05 - acc: 1.0000 - val_loss: 5.5630e-05 - val_acc: 1.0000\n",
      "Epoch 46/50\n",
      "959/959 [==============================] - 0s 432us/step - loss: 1.5265e-05 - acc: 1.0000 - val_loss: 1.7538e-04 - val_acc: 1.0000\n",
      "Epoch 47/50\n",
      "959/959 [==============================] - 0s 448us/step - loss: 1.1245e-05 - acc: 1.0000 - val_loss: 1.6047e-04 - val_acc: 1.0000\n",
      "Epoch 48/50\n",
      "959/959 [==============================] - 0s 434us/step - loss: 5.5609e-06 - acc: 1.0000 - val_loss: 4.5619e-05 - val_acc: 1.0000\n",
      "Epoch 49/50\n",
      "959/959 [==============================] - 0s 438us/step - loss: 5.0234e-06 - acc: 1.0000 - val_loss: 4.2256e-05 - val_acc: 1.0000\n",
      "Epoch 50/50\n",
      "959/959 [==============================] - 0s 455us/step - loss: 3.0542e-06 - acc: 1.0000 - val_loss: 4.2711e-05 - val_acc: 1.0000\n"
     ]
    }
   ],
   "source": [
    "#h = model.fit_generator(datagen.flow(X_train, y_train, batch_size = 15), steps_per_epoch = 60, epochs = 50, validation_data = (X_val, y_val), shuffle = 1, verbose = 1)\n",
    "  # steps_per_epoch = ceil(num_samples / batch_size), num_samples ở đây cỡ 34000, nhưng ở đây ko hiểu vì sao mẫu tới 100000\n",
    "  # dùng bộ dữ liệu tăng cường sẽ cho kết quả cao hơn !!!\n",
    "  \n",
    "h = model.fit(x = X_train, y = y_train, validation_data = (X_val, y_val), epochs = 10, shuffle = 'True', batch_size = 16, verbose = 1)\n",
    "  # batchsize = 400, ứng với 1 epoch sẽ lặp qua lần lượt 400 mẫu cho đến hết, giúp tiết kiệm bộ nhớ\n",
    "  # 1 epoch là 1 lần truyền tới và lui\n",
    "  #validation đã có bộ xác nhận riêng, nén sẽ dùng data có sẵn, không dùng split"
   ]
  },
  {
   "cell_type": "code",
   "execution_count": 29,
   "metadata": {
    "colab": {
     "base_uri": "https://localhost:8080/",
     "height": 376
    },
    "colab_type": "code",
    "id": "JAMzbUzGy7iN",
    "outputId": "ca16bb5d-c4ca-4550-fd35-47bfae6a59a3"
   },
   "outputs": [
    {
     "data": {
      "image/png": "[encoded data removed]",
      "text/plain": [
       "<Figure size 576x396 with 1 Axes>"
      ]
     },
     "metadata": {
      "tags": []
     },
     "output_type": "display_data"
    }
   ],
   "source": [
    "plt.plot(h.history['acc'])\n",
    "plt.plot(h.history['val_acc'])\n",
    "plt.title('acc and acc_val')\n",
    "plt.xlabel('epoch')\n",
    "plt.legend(['acc', 'val_acc'])\n",
    "plt.show()\n",
    "  # theo kinh nghiệm val > train và 2 đường có xu hướng tiệm cận nhau\n",
    "  # nếu val > train mà khoảng cách 2 đường quá lớn vì có nhiều lớp drop_out trong mô hình !!!"
   ]
  },
  {
   "cell_type": "code",
   "execution_count": 30,
   "metadata": {
    "colab": {
     "base_uri": "https://localhost:8080/",
     "height": 376
    },
    "colab_type": "code",
    "id": "bDJVVyzJ-d-N",
    "outputId": "4feb785f-39ac-48b2-f464-56a93ec27ce7"
   },
   "outputs": [
    {
     "data": {
      "image/png": "[encoded data removed]",
      "text/plain": [
       "<Figure size 576x396 with 1 Axes>"
      ]
     },
     "metadata": {
      "tags": []
     },
     "output_type": "display_data"
    }
   ],
   "source": [
    "plt.plot(h.history['loss'])\n",
    "plt.plot(h.history['val_loss'])\n",
    "plt.title('loss and val_loss')\n",
    "plt.legend(['loss', 'val_loss'])\n",
    "plt.xlabel('epoch')\n",
    "plt.show()\n",
    "# theo kinh nghiệm val < train và 2 đường có xu hướng tiệm cận nhau\n",
    "# nếu val > train mà khoảng cách 2 đường quá lớn vì có nhiều lớp drop_out trong mô hình !!!"
   ]
  },
  {
   "cell_type": "code",
   "execution_count": 31,
   "metadata": {
    "colab": {
     "base_uri": "https://localhost:8080/",
     "height": 51
    },
    "colab_type": "code",
    "id": "bhOxX7kb_SGl",
    "outputId": "9195b0b9-9653-4479-8c71-07202e1f818d"
   },
   "outputs": [
    {
     "name": "stdout",
     "output_type": "stream",
     "text": [
      "loss is:  4.209750223556815e-05\n",
      "accuracy is:  1.0\n"
     ]
    }
   ],
   "source": [
    "score = model.evaluate(X_test, y_test, verbose = 0)\n",
    "print('loss is: ', score[0])\n",
    "print('accuracy is: ', score[1])"
   ]
  },
  {
   "cell_type": "code",
   "execution_count": 32,
   "metadata": {
    "colab": {
     "base_uri": "https://localhost:8080/",
     "height": 368
    },
    "colab_type": "code",
    "id": "A3H0w8tS_vMS",
    "outputId": "b787a15b-f4f9-4c93-aaad-b6128bfa9659"
   },
   "outputs": [
    {
     "data": {
      "text/plain": [
       "<matplotlib.image.AxesImage at 0x7f24568a6a20>"
      ]
     },
     "execution_count": 32,
     "metadata": {
      "tags": []
     },
     "output_type": "execute_result"
    },
    {
     "data": {
      "image/png": "[encoded data removed]",
      "text/plain": [
       "<Figure size 576x396 with 1 Axes>"
      ]
     },
     "metadata": {
      "tags": []
     },
     "output_type": "display_data"
    }
   ],
   "source": [
    "#fetch image\n",
    "\n",
    "import requests\n",
    "from PIL import Image\n",
    "url = 'https://cdn.pixabay.com/photo/2013/07/13/13/16/traffic-sign-160709_960_720.png'\n",
    "r = requests.get(url, stream=True)\n",
    "img = Image.open(r.raw)\n",
    "plt.imshow(img, cmap=plt.get_cmap('gray'))"
   ]
  },
  {
   "cell_type": "code",
   "execution_count": 33,
   "metadata": {
    "colab": {
     "base_uri": "https://localhost:8080/",
     "height": 364
    },
    "colab_type": "code",
    "id": "Pm06GI_Uu9jq",
    "outputId": "715fc859-ecda-43bd-8b10-839db3aae05f"
   },
   "outputs": [
    {
     "name": "stdout",
     "output_type": "stream",
     "text": [
      "(32, 32)\n"
     ]
    },
    {
     "data": {
      "image/png": "[encoded data removed]",
      "text/plain": [
       "<Figure size 576x396 with 1 Axes>"
      ]
     },
     "metadata": {
      "tags": []
     },
     "output_type": "display_data"
    }
   ],
   "source": [
    "# Preprocess image\n",
    "\n",
    "img = np.asarray(img)\n",
    "img = cv2.resize(img, (32, 32))\n",
    "img = cv2.flip(img, 1)\n",
    "img = preprocessingimage(img)\n",
    "plt.imshow(img, cmap = plt.get_cmap('gray'))\n",
    "plt.axis('off')\n",
    "print(img.shape)"
   ]
  },
  {
   "cell_type": "code",
   "execution_count": null,
   "metadata": {
    "colab": {},
    "colab_type": "code",
    "id": "BRox6XkPvY7R"
   },
   "outputs": [],
   "source": [
    "#Reshape reshape\n",
    "\n",
    "img = img.reshape(1, 32, 32, 1)"
   ]
  },
  {
   "cell_type": "code",
   "execution_count": 35,
   "metadata": {
    "colab": {
     "base_uri": "https://localhost:8080/",
     "height": 34
    },
    "colab_type": "code",
    "id": "YtGDsYTowVCV",
    "outputId": "7322a7b4-bbc0-4ff9-dbe5-7d46149322df"
   },
   "outputs": [
    {
     "name": "stdout",
     "output_type": "stream",
     "text": [
      "predicted sign: [1]\n"
     ]
    }
   ],
   "source": [
    "#Test image\n",
    "print(\"predicted sign: \"+ str(model.predict_classes(img)))"
   ]
  },
  {
   "cell_type": "code",
   "execution_count": 39,
   "metadata": {
    "colab": {
     "base_uri": "https://localhost:8080/",
     "height": 68
    },
    "colab_type": "code",
    "id": "iJi4B5imgKr5",
    "outputId": "0615a2cb-a0e2-4982-dac7-144a0872120a"
   },
   "outputs": [
    {
     "name": "stdout",
     "output_type": "stream",
     "text": [
      "\u001b[K    100% |████████████████████████████████| 993kB 21.8MB/s \n",
      "\u001b[?25h  Building wheel for PyDrive (setup.py) ... \u001b[?25ldone\n",
      "\u001b[?25h"
     ]
    },
    {
     "data": {
      "text/plain": [
       "GoogleDriveFile({'id': '1mosxE5R9ReFdn2P-RmhA3XW57t-_v764'})"
      ]
     },
     "execution_count": 39,
     "metadata": {
      "tags": []
     },
     "output_type": "execute_result"
    }
   ],
   "source": [
    "!pip install -U -q PyDrive\n",
    "from pydrive.auth import GoogleAuth\n",
    "from pydrive.drive import GoogleDrive\n",
    "from google.colab import auth\n",
    "from oauth2client.client import GoogleCredentials\n",
    "\n",
    "# 1. Authenticate and create the PyDrive client.\n",
    "auth.authenticate_user()\n",
    "gauth = GoogleAuth()\n",
    "gauth.credentials = GoogleCredentials.get_application_default()\n",
    "drive = GoogleDrive(gauth)\n",
    "\n",
    "# 2. Save Keras Model or weights on google drive\n",
    "\n",
    "# create on Colab directory\n",
    "model.save('model.h5')    \n",
    "model_file = drive.CreateFile({'title' : 'model.h5'})\n",
    "model_file.SetContentFile('model.h5')\n",
    "model_file.Upload()\n",
    "\n",
    "# download to google drive\n",
    "drive.CreateFile({'id': model_file.get('id')})"
   ]
  },
  {
   "cell_type": "code",
   "execution_count": null,
   "metadata": {
    "colab": {},
    "colab_type": "code",
    "id": "xPZUGHQ8ghiz"
   },
   "outputs": [],
   "source": [
    "files.download('model.h5')"
   ]
  },
  {
   "cell_type": "code",
   "execution_count": null,
   "metadata": {
    "colab": {},
    "colab_type": "code",
    "id": "3FUca_PbwXPs"
   },
   "outputs": [],
   "source": [
    "# Công nghệ giúp cải thiện độ chính xác, (Data Augmentation ~ Tăng cường dữ liệu)\n",
    "  # rotate ảnh\n",
    "  # zoom ảnh\n",
    "  # vừa rotate vừa zoom ảnh\n",
    "  # => điều này cho phép trích xuất các tính năng liên quan chính xác hơn\n",
    "       # "
   ]
  }
 ],
 "metadata": {
  "accelerator": "GPU",
  "colab": {
   "collapsed_sections": [],
   "name": "Traffic Signs - Test.ipynb",
   "provenance": [],
   "version": "0.3.2"
  },
  "kernelspec": {
   "display_name": "Python 3",
   "language": "python",
   "name": "python3"
  },
  "language_info": {
   "codemirror_mode": {
    "name": "ipython",
    "version": 3
   },
   "file_extension": ".py",
   "mimetype": "text/x-python",
   "name": "python",
   "nbconvert_exporter": "python",
   "pygments_lexer": "ipython3",
   "version": "3.6.7"
  }
 },
 "nbformat": 4,
 "nbformat_minor": 2
}
